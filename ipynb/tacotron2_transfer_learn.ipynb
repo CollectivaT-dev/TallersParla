{
  "nbformat": 4,
  "nbformat_minor": 0,
  "metadata": {
    "colab": {
      "name": "tacotron2-transfer-learn.ipynb",
      "provenance": [],
      "collapsed_sections": [],
      "toc_visible": true
    },
    "kernelspec": {
      "name": "python3",
      "display_name": "Python 3"
    }
  },
  "cells": [
    {
      "cell_type": "markdown",
      "metadata": {
        "id": "RfYHtg77kHuD",
        "colab_type": "text"
      },
      "source": [
        "# Conectar al vostre \"Google Drive\"\n",
        "Per entrenar un model de Tacotron2 necessitarem dades i un model de partida. La manera de accedir aquests fitxers és mitjançant dels enllaços de Google Drive afegir-los al vostre compte.\n",
        "\n",
        "Un cop els fitxers estan a les nostres carpetes, podem donar els permisos a aquest \"notebook\" per accedir a les carpetes del drive. D'aquesta manera els fitxers seran visibles pel codi.\n",
        "\n",
        "Els enllaços són:\n",
        "* [Model de Tacotron2](https://drive.google.com/open?id=1c5ZTuT7J08wLUoVZ2KkUs_VdZuJ86ZqA\n",
        "), entrenat amb LJ Speech\n",
        "* [Dades de CMU Arctic](https://drive.google.com/open?id=1-DWmBkD99R09wEMb9r2MSD_l9qkgbNOf\n",
        "); només la veu KSP, procecessat per Tacotron2\n",
        "* [Model de Waveglow](https://drive.google.com/open?id=1WsibBTsuRg_SF2Z6L6NFRTT-NjEy1oTx), entrenat amb LJ Speech (per si de cas)\n",
        "\n",
        "Després d'afegir el fitxer de tar al vostre drive hauríeu de descomprimir-lo. Assegureu que la vostra copia estigui a la \"carpeta correcte.\""
      ]
    },
    {
      "cell_type": "code",
      "metadata": {
        "id": "9zmuXnzmqdam",
        "colab_type": "code",
        "colab": {}
      },
      "source": [
        "from google.colab import drive\n",
        "drive.mount('/content/drive')\n",
        "!ls \"/content/drive/My Drive/tacotron_models\""
      ],
      "execution_count": 0,
      "outputs": []
    },
    {
      "cell_type": "code",
      "metadata": {
        "id": "MKpPZv2z5FCe",
        "colab_type": "code",
        "colab": {}
      },
      "source": [
        "!cp /content/drive/My\\ Drive/data/adaptation_data.tar.gz /content/\n",
        "!tar xzf adaptation_data.tar.gz\n",
        "!rm adaptation_data.tar.gz"
      ],
      "execution_count": 0,
      "outputs": []
    },
    {
      "cell_type": "markdown",
      "metadata": {
        "id": "YZ9mbj-sk5Fe",
        "colab_type": "text"
      },
      "source": [
        "# Importar el codi\n",
        "El \"notebook\" de colab ens deixa executar ordres del terminal d'un linux, mitjançant el `!` i `%`. A més, els servidors del colab venen amb certes aplicacions instal·lades com a CUDA i git.\n",
        "\n",
        "Per importar el codi, farem un clon de github. Aquesta vegada farem servir el \"fork\" de Col·lectivaT perquè està especificament modificat per aquesta tasca."
      ]
    },
    {
      "cell_type": "code",
      "metadata": {
        "id": "sJb50PNtq6EW",
        "colab_type": "code",
        "colab": {}
      },
      "source": [
        "import sys\n",
        "!git clone https://github.com/collectivat-dev/catotron catotron\n",
        "%cd catotron\n",
        "!git submodule init; git submodule update\n",
        "sys.path.append('/content/catotron/waveglow')"
      ],
      "execution_count": 0,
      "outputs": []
    },
    {
      "cell_type": "markdown",
      "metadata": {
        "colab_type": "text",
        "id": "RUG0l0-otna_"
      },
      "source": [
        "# Instal·lació de les llibreries i cridar-les"
      ]
    },
    {
      "cell_type": "code",
      "metadata": {
        "id": "SNHDsHk3sk-k",
        "colab_type": "code",
        "colab": {}
      },
      "source": [
        "%%bash\n",
        "pip install numpy scipy librosa unidecode inflect librosa tensorboardX"
      ],
      "execution_count": 0,
      "outputs": []
    },
    {
      "cell_type": "markdown",
      "metadata": {
        "id": "d6VvoD3H7LUr",
        "colab_type": "text"
      },
      "source": [
        "# Executar l'script d'entrenament\n",
        "\n",
        "Aprofitarem l'script del repositori per l'entrenament. Fixeu-vos a l'opció de `--warm_start` que ens permet aprofitar del model entrenat.\n",
        "\n",
        "També assegureu-vos que l'script està intentant accedint a les carpetes correctes."
      ]
    },
    {
      "cell_type": "code",
      "metadata": {
        "id": "kwQh-Isc7fFx",
        "colab_type": "code",
        "colab": {}
      },
      "source": [
        "!python train.py --output_directory=\"/content/drive/My Drive/tacotron_models/\" --log_directory=/content/tacotron_adaptation/logs -c \"/content/drive/My Drive/tacotron_models/tacotron2_statedict.pt\" --warm_start"
      ],
      "execution_count": 0,
      "outputs": []
    },
    {
      "cell_type": "markdown",
      "metadata": {
        "id": "Js4lG53qo208",
        "colab_type": "text"
      },
      "source": [
        "# Carregar els models i sintetitzar la veu\n",
        "\n",
        "Després unes quantes iteracions de l'entrenament, ja podem investigar la qualitat dels resultats, sintetitzant algunes frases.\n",
        "\n",
        "Per generar una veu, Tacotron2 necessita dos passos: el primer generar els mel espectrogrames i el segon generar les ones a partir dels espectrogrames. Per aquesta raó necessitem dos models un per Tacotron2 un altre pel Vocoder. En aquest cas un model de Waveglow."
      ]
    },
    {
      "cell_type": "code",
      "metadata": {
        "id": "7m3iWqMAqrbf",
        "colab_type": "code",
        "colab": {}
      },
      "source": [
        "# Generic libraries\n",
        "import matplotlib\n",
        "%matplotlib inline\n",
        "import matplotlib.pylab as plt\n",
        "\n",
        "import IPython.display as ipd\n",
        "from scipy.io.wavfile import write\n",
        "\n",
        "import numpy as np\n",
        "import torch\n",
        "from audio_processing import griffin_lim\n",
        "\n",
        "# tacotron2 modules\n",
        "from hparams import create_hparams\n",
        "from model import Tacotron2\n",
        "from layers import TacotronSTFT, STFT\n",
        "\n",
        "import distributed\n",
        "from train import load_model\n",
        "from text import text_to_sequence\n",
        "#from denoiser import Denoiser"
      ],
      "execution_count": 0,
      "outputs": []
    },
    {
      "cell_type": "code",
      "metadata": {
        "id": "gvhA4VeJJ4hU",
        "colab_type": "code",
        "colab": {}
      },
      "source": [
        "hparams = create_hparams()\n",
        "rate = 22050\n",
        "hparams.sampling_rate = rate\n",
        "\n",
        "checkpoint_path = \"../drive/My Drive/tacotron_models/tacotron2_statedict.pt\"\n",
        "model = load_model(hparams)\n",
        "model.load_state_dict(torch.load(checkpoint_path)['state_dict'])\n",
        "_ = model.cuda().eval().half()"
      ],
      "execution_count": 0,
      "outputs": []
    },
    {
      "cell_type": "code",
      "metadata": {
        "id": "NTZ9nBfDKO0X",
        "colab_type": "code",
        "colab": {}
      },
      "source": [
        "waveglow_path = '../drive/My Drive/tacotron_models/waveglow_256channels.pt'\n",
        "waveglow = torch.load(waveglow_path)['model']\n",
        "waveglow.cuda().eval().half()\n",
        "for k in waveglow.convinv:\n",
        "    k.float()\n",
        "#denoiser = Denoiser(waveglow)\n",
        "\n",
        "# fix for the \"AttributeError: 'ConvTranspose1d' object has no attribute 'padding_mode'\"\n",
        "for m in waveglow.modules():\n",
        "    if 'Conv' in str(type(m)):\n",
        "        setattr(m, 'padding_mode', 'zeros')"
      ],
      "execution_count": 0,
      "outputs": []
    },
    {
      "cell_type": "code",
      "metadata": {
        "id": "TQB0tffWM8Au",
        "colab_type": "code",
        "colab": {}
      },
      "source": [
        "# introduce the text\n",
        "text = \"It's always darkest before it becomes totally black.\"\n",
        "\n",
        "# preprocessing\n",
        "sequence = np.array(text_to_sequence(text, ['english_cleaners']))[None, :]\n",
        "sequence = torch.from_numpy(sequence).to(device='cuda', dtype=torch.int64)\n",
        "\n",
        "# run the models\n",
        "mel_outputs, mel_outputs_postnet, _, alignments = model.inference(sequence)\n",
        "with torch.no_grad():\n",
        "    audio = waveglow.infer(mel_outputs_postnet)\n",
        "audio_numpy = audio[0].data.cpu().numpy()\n",
        "\n",
        "# make audio listenable\n",
        "ipd.Audio(audio_numpy, rate=rate)\n"
      ],
      "execution_count": 0,
      "outputs": []
    },
    {
      "cell_type": "code",
      "metadata": {
        "id": "WpKNkI36VQGb",
        "colab_type": "code",
        "colab": {}
      },
      "source": [
        "write('/content/drive/My Drive/test_wavs/nvidia01.wav', rate, audio_numpy)"
      ],
      "execution_count": 0,
      "outputs": []
    },
    {
      "cell_type": "markdown",
      "metadata": {
        "id": "Q9Fc71RlsSYU",
        "colab_type": "text"
      },
      "source": [
        "# Generar gràfiques\n",
        "\n",
        "Per donar una ullada a l'alineament i els espectrograma, fem servir matplotlib."
      ]
    },
    {
      "cell_type": "code",
      "metadata": {
        "id": "ORy3mScPV6CV",
        "colab_type": "code",
        "colab": {}
      },
      "source": [
        "def plot_data(data, figsize=(16, 16)):\n",
        "    fig, axes = plt.subplots(len(data), 1, figsize=figsize)\n",
        "    for i in range(len(data)):\n",
        "        axes[i].imshow(data[i], aspect='auto', origin='bottom', \n",
        "                       interpolation='none')\n",
        "    plt.savefig('/content/result.png')"
      ],
      "execution_count": 0,
      "outputs": []
    },
    {
      "cell_type": "code",
      "metadata": {
        "id": "XUtqtNNHob27",
        "colab_type": "code",
        "colab": {}
      },
      "source": [
        "plot_data((mel_outputs.float().data.cpu().numpy()[0],\n",
        "           mel_outputs_postnet.float().data.cpu().numpy()[0],\n",
        "           alignments.float().data.cpu().numpy()[0].T))"
      ],
      "execution_count": 0,
      "outputs": []
    }
  ]
}
